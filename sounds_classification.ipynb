{
 "cells": [
  {
   "cell_type": "markdown",
   "metadata": {},
   "source": []
  },
  {
   "cell_type": "markdown",
   "metadata": {
    "id": "WI7_hsKvXV7Q"
   },
   "source": [
    "# Introduction:"
   ]
  },
  {
   "cell_type": "markdown",
   "metadata": {
    "id": "JWkO3u9dXV7Y"
   },
   "source": [
    "UrbanSound8K - Classification:\n",
    "dataset contains 8732 labeled sound excerpts\n",
    "10 classes: air_conditioner, car_horn, children_playing, dog_bark, drilling, enginge_idling, gun_shot, jackhammer, siren, and street_music.\n",
    "All excerpts are taken from field recordings uploaded to www.freesound.org.\n"
   ]
  },
  {
   "cell_type": "markdown",
   "metadata": {},
   "source": [
    "Our Goals:\n",
    "1. "
   ]
  },
  {
   "cell_type": "markdown",
   "metadata": {},
   "source": [
    "### Importing:"
   ]
  },
  {
   "cell_type": "code",
   "execution_count": null,
   "metadata": {},
   "outputs": [],
   "source": [
    "! pip install keras"
   ]
  },
  {
   "cell_type": "code",
   "execution_count": null,
   "metadata": {},
   "outputs": [],
   "source": [
    "! python3 -m pip install tensorflow"
   ]
  },
  {
   "cell_type": "code",
   "execution_count": null,
   "metadata": {},
   "outputs": [],
   "source": [
    "! pip3 install tqdm"
   ]
  },
  {
   "cell_type": "code",
   "execution_count": null,
   "metadata": {},
   "outputs": [],
   "source": [
    "! pip3 install google"
   ]
  },
  {
   "cell_type": "code",
   "execution_count": 1,
   "metadata": {
    "id": "Qzpjwo3EXV7a"
   },
   "outputs": [
    {
     "name": "stderr",
     "output_type": "stream",
     "text": [
      "/Users/tuval/.pyenv/versions/3.7.3/lib/python3.7/site-packages/pandas/compat/__init__.py:124: UserWarning: Could not import the lzma module. Your installed Python is incomplete. Attempting to use lzma compression will result in a RuntimeError.\n",
      "  warnings.warn(msg)\n"
     ]
    }
   ],
   "source": [
    "# importing\n",
    "import numpy as np\n",
    "import matplotlib.pyplot as plt\n",
    "import pandas as pd\n",
    "\n",
    "\n",
    "from sklearn import preprocessing\n",
    "from sklearn.model_selection import train_test_split\n",
    "from sklearn.metrics import classification_report\n",
    "from sklearn.model_selection import GridSearchCV\n",
    "from sklearn.preprocessing import MinMaxScaler\n",
    "from sklearn.ensemble import RandomForestClassifier\n",
    "from sklearn.svm import SVC\n",
    "from sklearn.preprocessing import LabelEncoder\n",
    "from sklearn.model_selection import KFold\n",
    "from sklearn.model_selection import cross_val_score\n",
    "\n",
    "import keras\n",
    "from tensorflow.keras.utils import to_categorical\n",
    "from keras.wrappers.scikit_learn import KerasClassifier\n",
    "\n",
    "\n",
    "from tensorflow.keras.models import Sequential\n",
    "from tensorflow.keras.layers import Flatten, Dense, Softmax, Conv2D, MaxPool2D, Dropout, MaxPooling2D\n",
    "from tensorflow.keras.losses import SparseCategoricalCrossentropy\n",
    "from tensorflow.keras import datasets, layers, models\n",
    "\n",
    "\n",
    "pd.plotting.register_matplotlib_converters()\n",
    "%matplotlib inline\n",
    "import seaborn as sns\n",
    "\n",
    "import pickle\n",
    "\n",
    "import tensorflow as tf\n",
    "\n",
    "import os\n",
    "# import librosa\n",
    "# import librosa.display\n",
    "import glob \n",
    "\n",
    "import csv\n",
    "from scipy import signal\n",
    "from scipy.io import wavfile\n",
    "\n",
    "import time\n",
    "\n",
    "from scipy.fft import fft, fftfreq\n",
    "\n",
    "from numpy import save\n",
    "from tqdm import tqdm\n",
    "\n",
    "import pickle\n",
    "\n",
    "\n",
    "# from google.colab import drive\n",
    "# import skimage\n"
   ]
  },
  {
   "cell_type": "code",
   "execution_count": null,
   "metadata": {
    "colab": {
     "base_uri": "https://localhost:8080/"
    },
    "id": "S-f7lx3b-5aG",
    "outputId": "201cfad7-a783-4bf0-e1a9-0297e8e35ae5"
   },
   "outputs": [],
   "source": [
    "# drive.mount('/gdrive')"
   ]
  },
  {
   "cell_type": "markdown",
   "metadata": {
    "id": "4kNh0dulXV7c"
   },
   "source": [
    "# EDA:"
   ]
  },
  {
   "cell_type": "markdown",
   "metadata": {},
   "source": [
    "## Pip install:"
   ]
  },
  {
   "cell_type": "code",
   "execution_count": null,
   "metadata": {},
   "outputs": [],
   "source": [
    "! pip install matplotlib"
   ]
  },
  {
   "cell_type": "code",
   "execution_count": null,
   "metadata": {},
   "outputs": [],
   "source": [
    "! pip install seaborn"
   ]
  },
  {
   "cell_type": "markdown",
   "metadata": {},
   "source": [
    "## Import:"
   ]
  },
  {
   "cell_type": "code",
   "execution_count": null,
   "metadata": {},
   "outputs": [],
   "source": [
    "import matplotlib.pyplot as plt\n",
    "import seaborn as sns\n",
    "import pandas as pd\n",
    "import numpy as np\n"
   ]
  },
  {
   "cell_type": "markdown",
   "metadata": {},
   "source": [
    "## Data extraction"
   ]
  },
  {
   "cell_type": "code",
   "execution_count": null,
   "metadata": {},
   "outputs": [],
   "source": [
    "df = pd.read_csv('df.csv')"
   ]
  },
  {
   "cell_type": "markdown",
   "metadata": {},
   "source": [
    "## Data understanding"
   ]
  },
  {
   "cell_type": "code",
   "execution_count": null,
   "metadata": {},
   "outputs": [],
   "source": [
    "df.head()"
   ]
  },
  {
   "cell_type": "code",
   "execution_count": null,
   "metadata": {},
   "outputs": [],
   "source": [
    "df = df.drop(['Unnamed: 0', 'slice_file_name', 'fsID', 'salience', 'fold'], axis=1)"
   ]
  },
  {
   "cell_type": "code",
   "execution_count": null,
   "metadata": {},
   "outputs": [],
   "source": [
    "df.info()"
   ]
  },
  {
   "cell_type": "code",
   "execution_count": null,
   "metadata": {},
   "outputs": [],
   "source": [
    "df.columns"
   ]
  },
  {
   "cell_type": "code",
   "execution_count": null,
   "metadata": {},
   "outputs": [],
   "source": [
    "for col in df.columns:\n",
    "    print(col, len(df[col].unique()), df[col].unique())"
   ]
  },
  {
   "cell_type": "code",
   "execution_count": null,
   "metadata": {},
   "outputs": [],
   "source": [
    "df.describe()"
   ]
  },
  {
   "cell_type": "code",
   "execution_count": null,
   "metadata": {},
   "outputs": [],
   "source": [
    "df.dtypes"
   ]
  },
  {
   "cell_type": "markdown",
   "metadata": {},
   "source": [
    "## Data preparation"
   ]
  },
  {
   "cell_type": "code",
   "execution_count": null,
   "metadata": {},
   "outputs": [],
   "source": [
    "df[\"time_duration\"] = df[\"end\"] - df[\"start\"]\n",
    "df"
   ]
  },
  {
   "cell_type": "markdown",
   "metadata": {},
   "source": [
    "## Data visualizations"
   ]
  },
  {
   "cell_type": "code",
   "execution_count": null,
   "metadata": {},
   "outputs": [],
   "source": [
    "plt.figure(figsize= (20, 6))\n",
    "sns.violinplot(x= 'class', y= 'start', data= df).set_title('Start time')\n",
    "plt.show()"
   ]
  },
  {
   "cell_type": "code",
   "execution_count": null,
   "metadata": {},
   "outputs": [],
   "source": [
    "df.corr()\n"
   ]
  },
  {
   "cell_type": "code",
   "execution_count": null,
   "metadata": {},
   "outputs": [],
   "source": [
    "df.duplicated().sum()"
   ]
  },
  {
   "cell_type": "code",
   "execution_count": null,
   "metadata": {},
   "outputs": [],
   "source": [
    "plt.figure(figsize= (20, 6))\n",
    "\n",
    "sns.stripplot(x ='class', y ='time_duration', data = df,\n",
    "              jitter = True, dodge = True)\n",
    "plt.show()"
   ]
  },
  {
   "cell_type": "markdown",
   "metadata": {},
   "source": [
    "# Feature engineering:"
   ]
  },
  {
   "cell_type": "markdown",
   "metadata": {},
   "source": [
    "- 3.1 Functions def:"
   ]
  },
  {
   "cell_type": "code",
   "execution_count": null,
   "metadata": {},
   "outputs": [],
   "source": [
    "# path - tuval env:\n",
    "directory_path = 'data/' "
   ]
  },
  {
   "cell_type": "code",
   "execution_count": null,
   "metadata": {
    "id": "Uly-XduIXV7e"
   },
   "outputs": [],
   "source": [
    " \n",
    "\n",
    "def get_spectrogram_data(path, fft_size=2048,overlap_ratio=0, restrict_freq=(0,11025)):\n",
    "    samplerate, audiodata  = wavfile.read(path) # 44100\n",
    "    data = audiodata.astype(float)\n",
    "    \n",
    "    #if \"mono\" the data is duplicated else the data is \"streo\"\n",
    "    if len(data.shape) > 1:\n",
    "        data = audiodata.sum(axis=1) / 2\n",
    "\n",
    "    N = len(data)  \n",
    "    time = N / samplerate # 176400/44100 =time sec\n",
    "    freq = N/time # should get 22.05kHz\n",
    "\n",
    "    samplerate_fixed = 22050 # 22050*4 = 88200\n",
    "    data = signal.resample(data, int(samplerate_fixed*time))  \n",
    "    time = N/samplerate_fixed\n",
    "    freq = N/time \n",
    "    samplerate = samplerate_fixed\n",
    "\n",
    "    # resize data. all files should get the same length of time\n",
    "    if len(data) < 88200: # 176400\n",
    "        data = np.append(data,np.zeros(88200-len(data)))\n",
    "    else:\n",
    "        data = data[:88200]\n",
    "\n",
    "    # resample thr data to 22.05 kHZ. \n",
    "    # input parameter: samples. therfore fixed_sample_rate * audio time\n",
    "    f_raw, time, Sxx_raw = signal.spectrogram(data, fs=samplerate, nperseg=fft_size, window=\"hann\", noverlap=overlap_ratio*fft_size)\n",
    "\n",
    "    freq = f_raw[(f_raw>=restrict_freq[0]) & (f_raw<=restrict_freq[1])]\n",
    "    Sxx= Sxx_raw[(f_raw>=restrict_freq[0]) & (f_raw<=restrict_freq[1]),:]\n",
    "    \n",
    "    total = np.sum(Sxx)\n",
    "    Sxx= Sxx/total\n",
    "    Sxx_log = 10*np.log10(Sxx + 0.00001)\n",
    "    Sxx_log = Sxx_log - Sxx_log.min()\n",
    "    return Sxx_log, time, freq\n",
    "\n",
    "\n",
    "def signal_plotting(path):\n",
    "    samplerate, audiodata  = wavfile.read(path) # 44100\n",
    "    data = audiodata.astype(float)\n",
    "    \n",
    "    #if \"mono\" the data is duplicated else the data is \"streo\"\n",
    "    if len(data.shape) > 1:\n",
    "        data = audiodata.sum(axis=1) / 2\n",
    "    data = data\n",
    "    N= len(data)\n",
    "    yf = fft(data)\n",
    "    xf = fftfreq(N, samplerate)[:N//2]\n",
    "    plt.subplot(2,1,1) \n",
    "    plt.plot(data)\n",
    "    plt.ylabel('amplitude')\n",
    "    plt.xlabel('Time')\n",
    "    plt.title('audio signal')\n",
    "    plt.subplot(2,1,2) \n",
    "    plt.plot(xf, 2.0/N * np.abs(yf[0:N//2]))\n",
    "    plt.xlabel('frequncy')\n",
    "    plt.title('audio signal')\n",
    "    plt.tight_layout()\n",
    "    plt.grid()\n",
    "    plt.show()\n",
    "\n",
    "    \n",
    "def spec_plotting(path, fft_size=2048,overlap_ratio=0.25):    \n",
    "    Sxx_log, time, freq = get_spectrogram_data(path ,fft_size=fft_size,overlap_ratio=overlap_ratio)\n",
    "    plt.subplot(2,1,1) \n",
    "    plt.pcolormesh(time, freq,Sxx_log, shading='gouraud')\n",
    "    plt.ylabel('Frequency')\n",
    "    plt.xlabel('Time [sec]')\n",
    "    plt.colorbar(format='%+2.0f dB')\n",
    "    plt.title('Linear-frequency power spectrogram')\n",
    "    plt.subplot(2,1,2) \n",
    "    plt.pcolormesh(time, np.log10(freq+1), Sxx_log, shading='gouraud')\n",
    "    plt.ylabel('10*log10(f)')\n",
    "    plt.xlabel('Time [sec]')\n",
    "    plt.colorbar(format='%+2.0f dB')\n",
    "    plt.title('logarithmic -frequency power spectrogram')\n",
    "    plt.tight_layout()\n",
    "    plt.show() \n",
    "\n",
    "\n",
    "def get_df_spec_data(df, fft_size=2048,overlap_ratio=0.25):\n",
    "    results = []\n",
    "    for i, path in enumerate(df):\n",
    "        if i% 50==0:\n",
    "            print (round(i/df.shape[0]*100,0),\"%\" )\n",
    "            \n",
    "        Sxx_log, time, freq = get_spectrogram_data(path ,fft_size=fft_size,overlap_ratio=overlap_ratio)\n",
    "        results.append(Sxx_log)\n",
    "    return results\n",
    "\n",
    "    \n",
    "\n",
    "def repeat_and_reshape(X_train, X_test,dup_size):\n",
    "    input_size = X_train.shape[1]\n",
    "\n",
    "    X_train_len = X_train.shape[0]\n",
    "    X_test_len =X_test.shape[0]\n",
    "\n",
    "    X_train = np.repeat(X_train, dup_size, axis=1)\n",
    "    X_train = X_train.reshape(X_train_len, input_size, dup_size, 1)\n",
    "\n",
    "\n",
    "    X_test = np.repeat(X_test, dup_size, axis=1)\n",
    "    X_test = X_test.reshape(X_test_len, input_size, dup_size, 1)\n",
    "\n",
    "\n",
    "    return (X_train, X_test)"
   ]
  },
  {
   "cell_type": "markdown",
   "metadata": {
    "id": "abx5P9jZXV7f"
   },
   "source": [
    "- 3.2 Extract data:"
   ]
  },
  {
   "cell_type": "code",
   "execution_count": null,
   "metadata": {
    "id": "s64ddtyBAook"
   },
   "outputs": [],
   "source": [
    "# directory_path = '/gdrive/My Drive/Data Science/Final_project/sound_data/'\n",
    "file_name='UrbanSound8K.csv'\n",
    "def get_paths_lables_df(directory_path,file_name):\n",
    "    path = directory_path + file_name\n",
    "    df = pd.read_csv(path)\n",
    "    df['relative_path'] =  directory_path+ '/fold'+  df['fold'].astype(str) + '/' + df['slice_file_name'].astype(str)\n",
    "    df = df[['relative_path', 'classID','class']]\n",
    "    print('count: ', df.shape[0])\n",
    "   \n",
    "    return df"
   ]
  },
  {
   "cell_type": "code",
   "execution_count": null,
   "metadata": {
    "id": "6Jo_Y3ULKXlW"
   },
   "outputs": [],
   "source": [
    "def get_df_spec_data(df, fft_size=4000,overlap_ratio=0.1):\n",
    "    spec_data = []\n",
    "    y_labels =[]\n",
    "    \n",
    "    for index, row in tqdm(df.iterrows()):\n",
    "        path= row['relative_path']\n",
    "        if os.path.exists(path):    \n",
    "            Sxx_log, time, freq = get_spectrogram_data(path ,fft_size=fft_size,overlap_ratio=overlap_ratio)\n",
    "            spec_data.append(Sxx_log)\n",
    "            y_labels.append(row['classID'])\n",
    "    ## creat numpy arrays of the 2 lists spec_data, y_labels\n",
    "    spec_data=np.array(spec_data)\n",
    "    y_labels=np.array(y_labels)\n",
    "    return spec_data,y_labels"
   ]
  },
  {
   "cell_type": "code",
   "execution_count": null,
   "metadata": {
    "colab": {
     "base_uri": "https://localhost:8080/"
    },
    "id": "Y6WderV0XV7l",
    "outputId": "5f7b4e8b-d205-4870-9a88-d84271c2da01"
   },
   "outputs": [],
   "source": [
    "# # efrat:\n",
    "\n",
    "# start_time = time.time()\n",
    "\n",
    "# # Construct feature by concatenating fold and file name\n",
    "# df = get_paths_lables_df(directory_path,file_name)\n",
    "\n",
    "# # rows num to filter- drop out the rows of files with wrong file format\n",
    "# df = df.drop(index=[4803,6246,6247,6248,6249,6250,6251,6252,6253,8337,8338],axis=0)\n",
    "# rows =len(df)\n",
    "\n",
    "# spec_data,y_labels = get_df_spec_data(df, fft_size=2048,overlap_ratio=0.2)\n",
    "\n"
   ]
  },
  {
   "cell_type": "code",
   "execution_count": null,
   "metadata": {
    "colab": {
     "base_uri": "https://localhost:8080/"
    },
    "id": "aQIZcu-Ov4YF",
    "outputId": "9331f5e7-faf7-4b69-94d9-0ffbda142bdb"
   },
   "outputs": [],
   "source": [
    "# print(f\"Spec data shape: {spec_data.shape}.\\ny label shape: {y_labels.shape}\")\n",
    "\n"
   ]
  },
  {
   "cell_type": "code",
   "execution_count": null,
   "metadata": {
    "id": "NgFphvH8wMy2"
   },
   "outputs": [],
   "source": [
    "# # We save x into the current directory as \n",
    "# np.save(directory_path +'spec_data_np', spec_data)\n",
    "# np.save(directory_path +'y_labels_np', y_labels)"
   ]
  },
  {
   "cell_type": "markdown",
   "metadata": {
    "id": "oWzrZK28TZKM"
   },
   "source": [
    "# Split to Train / Test and Validation"
   ]
  },
  {
   "cell_type": "code",
   "execution_count": 27,
   "metadata": {},
   "outputs": [],
   "source": [
    "\n",
    "import glob\n",
    "\n",
    "\n",
    "directory_path = 'data/'\n",
    "# create list with all .npz files\n",
    "npz_files = []\n",
    "for file in glob.glob(directory_path + '*.npz'):\n",
    "    npz_files.append(file)\n",
    "\n",
    "\n",
    "# Load data\n",
    "npz_file = npz_files[3]\n",
    "\n",
    "data=np.load(npz_file, allow_pickle=True)\n",
    "x_data=data['X']\n",
    "y_data=data['y']\n",
    "y_data = to_categorical(y_data)"
   ]
  },
  {
   "cell_type": "code",
   "execution_count": 28,
   "metadata": {},
   "outputs": [
    {
     "data": {
      "text/plain": [
       "'data/8732_128_2048_0.25.npz'"
      ]
     },
     "execution_count": 28,
     "metadata": {},
     "output_type": "execute_result"
    }
   ],
   "source": [
    "npz_file"
   ]
  },
  {
   "cell_type": "code",
   "execution_count": 29,
   "metadata": {
    "colab": {
     "base_uri": "https://localhost:8080/"
    },
    "id": "TfBkXamJXV7u",
    "outputId": "d257ee92-587f-4680-f674-433be4e811fe"
   },
   "outputs": [
    {
     "name": "stdout",
     "output_type": "stream",
     "text": [
      "X_Validation.shape: (874, 128, 57)\n",
      "X_train.shape: (5500, 128, 57)\n",
      "X_test.shape: (2358, 128, 57)\n"
     ]
    }
   ],
   "source": [
    "x_data, X_Validation, y_data, Y_Validation = train_test_split(x_data, y_data, test_size=0.1 ,random_state = 123)\n",
    "X_train, X_test, Y_train, Y_test = train_test_split(x_data, y_data, test_size=0.3 ,random_state = 123)\n",
    "\n",
    "print('X_Validation.shape: ' + str(X_Validation.shape))\n",
    "print('X_train.shape: ' + str(X_train.shape))\n",
    "print('X_test.shape: '+ str(X_test.shape))\n"
   ]
  },
  {
   "cell_type": "code",
   "execution_count": 30,
   "metadata": {
    "id": "nUoY5e06XV7u"
   },
   "outputs": [],
   "source": [
    "X_Validation = X_Validation.reshape(X_Validation.shape[0],X_Validation.shape[1],X_Validation.shape[2],1)\n",
    "X_train = X_train.reshape(X_train.shape[0],X_train.shape[1],X_train.shape[2],1)\n",
    "X_test = X_test.reshape(X_test.shape[0],X_test.shape[1],X_test.shape[2],1)\n",
    "\n",
    "input_dim = (X_train.shape[1],X_train.shape[2],1)"
   ]
  },
  {
   "cell_type": "code",
   "execution_count": 31,
   "metadata": {
    "id": "-afa4DXCXV7u"
   },
   "outputs": [],
   "source": [
    "## Clear RAM for the run\n",
    "del(x_data)\n"
   ]
  },
  {
   "cell_type": "markdown",
   "metadata": {},
   "source": [
    "# Models"
   ]
  },
  {
   "cell_type": "markdown",
   "metadata": {},
   "source": [
    "Choose the number of categories for the model to classify\n",
    "if original file- 10 \n",
    "if file with birds- 13"
   ]
  },
  {
   "cell_type": "code",
   "execution_count": 32,
   "metadata": {},
   "outputs": [],
   "source": [
    "num_categories=10"
   ]
  },
  {
   "cell_type": "markdown",
   "metadata": {},
   "source": [
    "## Efrat model:"
   ]
  },
  {
   "cell_type": "code",
   "execution_count": null,
   "metadata": {
    "id": "5NWav61WyiQ2"
   },
   "outputs": [],
   "source": [
    "\n",
    "    model_EF_2 = Sequential()\n",
    "    model_EF_2.add(Conv2D(64, (5, 5), padding = \"same\", activation = \"tanh\", input_shape = input_dim))\n",
    "    model_EF_2.add(MaxPool2D(pool_size=(2, 2)))\n",
    "    model_EF_2.add(Conv2D(64, (5, 5), padding = \"same\", activation = \"tanh\", input_shape = input_dim))\n",
    "    model_EF_2.add(MaxPool2D(pool_size=(2, 2)))    \n",
    "    model_EF_2.add(Conv2D(128, (3, 3), padding = \"same\", activation = \"tanh\"))\n",
    "    model_EF_2.add(MaxPool2D(pool_size=(2, 2)))    \n",
    "    model_EF_2.add(Conv2D(32, (3, 3), padding = \"same\", activation = \"tanh\"))\n",
    "    model_EF_2.add(MaxPool2D(pool_size=(2, 2)))\n",
    "    model_EF_2.add(Dropout(0.1))\n",
    "    model_EF_2.add(Flatten())\n",
    "    model_EF_2.add(Dense(1024, activation = \"tanh\"))\n",
    "    model_EF_2.add(Dense(num_categories, activation = \"softmax\"))\n",
    "\n",
    "    model_EF_2.compile(optimizer = 'adam', loss = 'categorical_crossentropy', metrics = ['accuracy'])"
   ]
  },
  {
   "cell_type": "code",
   "execution_count": null,
   "metadata": {
    "id": "JpTwAhby34Qo"
   },
   "outputs": [],
   "source": [
    "\n",
    "    model_EF_3 = Sequential()\n",
    "    model_EF_3.add(Conv2D(64, (3, 3), padding = \"same\", activation = \"tanh\", input_shape = input_dim))\n",
    "    model_EF_3.add(MaxPool2D(pool_size=(2, 2)))\n",
    "    model_EF_3.add(Conv2D(128, (3, 3), padding = \"same\", activation = \"tanh\"))\n",
    "    model_EF_3.add(MaxPool2D(pool_size=(2, 2)))\n",
    "    model_EF_3.add(Dropout(0.1))\n",
    "    model_EF_3.add(Flatten())\n",
    "    model_EF_3.add(Dense(1024, activation = \"tanh\"))\n",
    "    model_EF_3.add(Dense(num_categories, activation = \"softmax\"))\n",
    "\n",
    "    model_EF_3.compile(optimizer = 'adam', loss = 'categorical_crossentropy', metrics = ['accuracy'])\n"
   ]
  },
  {
   "cell_type": "code",
   "execution_count": 33,
   "metadata": {
    "id": "eOPO51Gn4ODB"
   },
   "outputs": [],
   "source": [
    "model_EF_4 = Sequential()\n",
    "model_EF_4.add(Conv2D(32, kernel_size=(5, 5), strides=(1, 1), activation='relu', input_shape = input_dim))\n",
    "model_EF_4.add(MaxPool2D(pool_size=(2, 2),  strides=(2, 2)))\n",
    "model_EF_4.add(Conv2D(64, (5, 5), activation='relu'))\n",
    "model_EF_4.add(MaxPool2D(pool_size=(2, 2)))\n",
    "model_EF_4.add(Dropout(0.1))\n",
    "model_EF_4.add(Flatten())\n",
    "model_EF_4.add(Dense(1000, activation = \"relu\"))\n",
    "model_EF_4.add(Dense(num_categories, activation = \"softmax\"))\n",
    "\n",
    "model_EF_4.compile(optimizer = 'adam', loss = 'categorical_crossentropy', metrics = ['accuracy'])"
   ]
  },
  {
   "cell_type": "markdown",
   "metadata": {},
   "source": [
    "## Imri model:"
   ]
  },
  {
   "cell_type": "code",
   "execution_count": null,
   "metadata": {
    "id": "1DyCY04RXV7p"
   },
   "outputs": [],
   "source": [
    "model_IM_1 = models.Sequential()\n",
    "model_IM_1.add(layers.Conv2D(filters=32,kernel_size=(3, 3),padding='same', activation='relu'))\n",
    "model_IM_1.add(layers.MaxPooling2D((2, 2)))\n",
    "model_IM_1.add(layers.Conv2D(64, (3, 3), activation='relu'))\n",
    "model_IM_1.add(layers.MaxPooling2D((2, 2)))\n",
    "model_IM_1.add(layers.Conv2D(64, (3, 3), activation='relu'))\n",
    "model_IM_1.add(Dropout(0.2))\n",
    "\n",
    "model_IM_1.add(layers.Flatten())\n",
    "model_IM_1.add(Dense(128, activation='relu'))\n",
    "model_IM_1.add(Dropout(0.5))\n",
    "model_IM_1.add(Dense(num_categories,activation = \"softmax\"))\n",
    "\n",
    "model_IM_1.compile(loss='categorical_crossentropy',optimizer='adam',metrics=['accuracy'])"
   ]
  },
  {
   "cell_type": "code",
   "execution_count": 18,
   "metadata": {
    "id": "jLDjsN1LXV7r"
   },
   "outputs": [],
   "source": [
    "model_IM_2 = Sequential()\n",
    "\n",
    "model_IM_2.add(Conv2D(filters=32,kernel_size=(3, 3),padding='same',activation='relu'),)\n",
    "model_IM_2.add(MaxPooling2D(pool_size=(2, 2)))\n",
    "model_IM_2.add(Dropout(0.25))\n",
    "\n",
    "model_IM_2.add(Conv2D(filters=64,kernel_size=(3, 3), padding = \"same\", activation = \"tanh\"))\n",
    "model_IM_2.add(MaxPooling2D(pool_size=(2, 2)))\n",
    "model_IM_2.add(Dropout(0.25))\n",
    "model_IM_2.add(Conv2D(filters=64, kernel_size=(3, 3), activation='relu'))\n",
    "model_IM_2.add(MaxPooling2D(pool_size=(2, 2)))\n",
    "model_IM_2.add(Dropout(0.25))\n",
    "\n",
    "model_IM_2.add(Flatten())\n",
    "model_IM_2.add(Dense(256, activation='relu'))#my addition\n",
    "model_IM_2.add(Dropout(0.5))\n",
    "model_IM_2.add(Dense(128, activation='relu'))\n",
    "model_IM_2.add(Dense(num_categories, activation='softmax'))\n",
    "\n",
    "model_IM_2.compile(optimizer = 'adam', loss = 'categorical_crossentropy', metrics = ['accuracy'])\n"
   ]
  },
  {
   "cell_type": "code",
   "execution_count": null,
   "metadata": {
    "id": "f-qdA-_OXV7t"
   },
   "outputs": [],
   "source": [
    "model_IM_3 = Sequential()\n",
    "model_IM_3.add(Conv2D(64, (3, 3), padding = \"same\", activation = \"tanh\"))\n",
    "model_IM_3.add(MaxPool2D(pool_size=(2, 2)))\n",
    "model_IM_3.add(Conv2D(128, (3, 3), padding = \"same\", activation = \"tanh\"))\n",
    "model_IM_3.add(MaxPool2D(pool_size=(2, 2)))\n",
    "model_IM_3.add(Dropout(0.1))\n",
    "model_IM_3.add(Flatten())\n",
    "model_IM_3.add(Dense(1024, activation = \"tanh\"))\n",
    "model_IM_3.add(Dense(num_categories, activation = \"softmax\"))\n",
    "\n",
    "model_IM_3.compile(optimizer = 'adam', loss = 'categorical_crossentropy', metrics = ['accuracy'])"
   ]
  },
  {
   "cell_type": "markdown",
   "metadata": {},
   "source": [
    "## Fit model:"
   ]
  },
  {
   "cell_type": "code",
   "execution_count": 34,
   "metadata": {},
   "outputs": [
    {
     "name": "stdout",
     "output_type": "stream",
     "text": [
      "Epoch 1/40\n",
      "184/184 [==============================] - 102s 554ms/step - loss: 1.2063 - accuracy: 0.5951 - val_loss: 0.8153 - val_accuracy: 0.7193\n",
      "Epoch 2/40\n",
      "184/184 [==============================] - 117s 633ms/step - loss: 0.5718 - accuracy: 0.8142 - val_loss: 0.5280 - val_accuracy: 0.8367\n",
      "Epoch 3/40\n",
      "184/184 [==============================] - 92s 500ms/step - loss: 0.3076 - accuracy: 0.8993 - val_loss: 0.5546 - val_accuracy: 0.8533\n",
      "Epoch 4/40\n",
      "184/184 [==============================] - 84s 458ms/step - loss: 0.1785 - accuracy: 0.9413 - val_loss: 0.5103 - val_accuracy: 0.8787\n",
      "Epoch 5/40\n",
      "184/184 [==============================] - 89s 485ms/step - loss: 0.1004 - accuracy: 0.9693 - val_loss: 0.5694 - val_accuracy: 0.8762\n",
      "Epoch 6/40\n",
      "184/184 [==============================] - 86s 469ms/step - loss: 0.0792 - accuracy: 0.9764 - val_loss: 0.6486 - val_accuracy: 0.8639\n",
      "Epoch 7/40\n",
      "184/184 [==============================] - 82s 445ms/step - loss: 0.0384 - accuracy: 0.9889 - val_loss: 0.6718 - val_accuracy: 0.8605\n",
      "Epoch 8/40\n",
      "184/184 [==============================] - 86s 465ms/step - loss: 0.0493 - accuracy: 0.9875 - val_loss: 0.6492 - val_accuracy: 0.8821\n",
      "Epoch 9/40\n",
      "184/184 [==============================] - 94s 509ms/step - loss: 0.0267 - accuracy: 0.9927 - val_loss: 0.8719 - val_accuracy: 0.8473\n",
      "Epoch 10/40\n",
      "184/184 [==============================] - 86s 469ms/step - loss: 0.0463 - accuracy: 0.9847 - val_loss: 0.9963 - val_accuracy: 0.8388\n",
      "Epoch 11/40\n",
      "184/184 [==============================] - 82s 445ms/step - loss: 0.0465 - accuracy: 0.9875 - val_loss: 0.7135 - val_accuracy: 0.8740\n",
      "Epoch 12/40\n",
      "184/184 [==============================] - 88s 477ms/step - loss: 0.0361 - accuracy: 0.9904 - val_loss: 0.7779 - val_accuracy: 0.8677\n",
      "Epoch 13/40\n",
      "184/184 [==============================] - 88s 476ms/step - loss: 0.0156 - accuracy: 0.9964 - val_loss: 0.7992 - val_accuracy: 0.8715\n",
      "Epoch 14/40\n",
      "184/184 [==============================] - 90s 491ms/step - loss: 0.0138 - accuracy: 0.9964 - val_loss: 0.7458 - val_accuracy: 0.8821\n",
      "Epoch 15/40\n",
      "184/184 [==============================] - 96s 524ms/step - loss: 0.0746 - accuracy: 0.9771 - val_loss: 0.8301 - val_accuracy: 0.8469\n",
      "Epoch 16/40\n",
      "184/184 [==============================] - 97s 528ms/step - loss: 0.0119 - accuracy: 0.9976 - val_loss: 0.7979 - val_accuracy: 0.8796\n",
      "Epoch 17/40\n",
      "184/184 [==============================] - 94s 511ms/step - loss: 0.0213 - accuracy: 0.9956 - val_loss: 0.9100 - val_accuracy: 0.8711\n",
      "Epoch 18/40\n",
      "184/184 [==============================] - 91s 494ms/step - loss: 0.0113 - accuracy: 0.9969 - val_loss: 0.8138 - val_accuracy: 0.8757\n",
      "Epoch 19/40\n",
      "184/184 [==============================] - 89s 485ms/step - loss: 0.0146 - accuracy: 0.9956 - val_loss: 0.9105 - val_accuracy: 0.8787\n",
      "Epoch 20/40\n",
      "184/184 [==============================] - 93s 506ms/step - loss: 0.0236 - accuracy: 0.9945 - val_loss: 0.7971 - val_accuracy: 0.8711\n",
      "Epoch 21/40\n",
      "184/184 [==============================] - 94s 513ms/step - loss: 0.0112 - accuracy: 0.9965 - val_loss: 0.8571 - val_accuracy: 0.8808\n",
      "Epoch 22/40\n",
      "184/184 [==============================] - 89s 482ms/step - loss: 0.0091 - accuracy: 0.9975 - val_loss: 0.9863 - val_accuracy: 0.8770\n",
      "Epoch 23/40\n",
      "184/184 [==============================] - 82s 446ms/step - loss: 0.0025 - accuracy: 0.9996 - val_loss: 0.8861 - val_accuracy: 0.8880\n",
      "Epoch 24/40\n",
      "184/184 [==============================] - 86s 466ms/step - loss: 0.0042 - accuracy: 0.9987 - val_loss: 0.9251 - val_accuracy: 0.8770\n",
      "Epoch 25/40\n",
      "184/184 [==============================] - 82s 446ms/step - loss: 0.0481 - accuracy: 0.9864 - val_loss: 1.1070 - val_accuracy: 0.8316\n",
      "Epoch 26/40\n",
      "184/184 [==============================] - 87s 474ms/step - loss: 0.0948 - accuracy: 0.9780 - val_loss: 0.9853 - val_accuracy: 0.8528\n",
      "Epoch 27/40\n",
      "184/184 [==============================] - 91s 495ms/step - loss: 0.0295 - accuracy: 0.9935 - val_loss: 0.9856 - val_accuracy: 0.8770\n",
      "Epoch 28/40\n",
      "184/184 [==============================] - 86s 467ms/step - loss: 0.0252 - accuracy: 0.9971 - val_loss: 0.9115 - val_accuracy: 0.8825\n",
      "Epoch 29/40\n",
      "184/184 [==============================] - 83s 453ms/step - loss: 0.0080 - accuracy: 0.9976 - val_loss: 0.9469 - val_accuracy: 0.8779\n",
      "Epoch 30/40\n",
      "184/184 [==============================] - 82s 444ms/step - loss: 0.0025 - accuracy: 0.9991 - val_loss: 1.0001 - val_accuracy: 0.8745\n",
      "Epoch 31/40\n",
      "184/184 [==============================] - 85s 460ms/step - loss: 0.0024 - accuracy: 0.9991 - val_loss: 0.9727 - val_accuracy: 0.8838\n",
      "Epoch 32/40\n",
      "184/184 [==============================] - 86s 466ms/step - loss: 0.0026 - accuracy: 0.9993 - val_loss: 0.9596 - val_accuracy: 0.8859\n",
      "Epoch 33/40\n",
      "184/184 [==============================] - 83s 451ms/step - loss: 0.0015 - accuracy: 0.9995 - val_loss: 0.9775 - val_accuracy: 0.8863\n",
      "Epoch 34/40\n",
      "184/184 [==============================] - 82s 448ms/step - loss: 0.0017 - accuracy: 0.9995 - val_loss: 0.9617 - val_accuracy: 0.8902\n",
      "Epoch 35/40\n",
      "184/184 [==============================] - 86s 468ms/step - loss: 0.0016 - accuracy: 0.9993 - val_loss: 0.9642 - val_accuracy: 0.8897\n",
      "Epoch 36/40\n",
      "184/184 [==============================] - 83s 450ms/step - loss: 8.7483e-04 - accuracy: 0.9996 - val_loss: 0.9653 - val_accuracy: 0.8880\n",
      "Epoch 37/40\n",
      "184/184 [==============================] - 83s 450ms/step - loss: 0.0012 - accuracy: 0.9995 - val_loss: 0.9813 - val_accuracy: 0.8910\n",
      "Epoch 38/40\n",
      "184/184 [==============================] - 73s 397ms/step - loss: 8.9665e-04 - accuracy: 0.9996 - val_loss: 0.9940 - val_accuracy: 0.8872\n",
      "Epoch 39/40\n",
      "184/184 [==============================] - 66s 360ms/step - loss: 9.6854e-04 - accuracy: 0.9995 - val_loss: 0.9941 - val_accuracy: 0.8880\n",
      "Epoch 40/40\n",
      "184/184 [==============================] - 78s 423ms/step - loss: 0.0015 - accuracy: 0.9993 - val_loss: 0.9813 - val_accuracy: 0.8872\n"
     ]
    },
    {
     "name": "stderr",
     "output_type": "stream",
     "text": [
      "WARNING:absl:Found untraced functions such as _jit_compiled_convolution_op, _jit_compiled_convolution_op while saving (showing 2 of 2). These functions will not be directly callable after loading.\n"
     ]
    },
    {
     "name": "stdout",
     "output_type": "stream",
     "text": [
      "INFO:tensorflow:Assets written to: ram://07b5f0fb-74e6-48ff-a83f-fd8e2ba2f2fe/assets\n"
     ]
    },
    {
     "name": "stderr",
     "output_type": "stream",
     "text": [
      "INFO:tensorflow:Assets written to: ram://07b5f0fb-74e6-48ff-a83f-fd8e2ba2f2fe/assets\n"
     ]
    }
   ],
   "source": [
    "\n",
    "# Fit model by model name: [EF_2, EF_3, EF_4, IM_1, IM_2, IM3]\n",
    "\n",
    "model_name= 'EF_4' + '_' + npz_file.split('/')[1].split('.npz')[0]\n",
    "\n",
    "model=model_EF_4\n",
    "\n",
    "csv_logger = tf.keras.callbacks.CSVLogger('results/log/' +  model_name +  '.csv', separator=str(u','), append= False)   \n",
    "\n",
    "\n",
    "################################\n",
    "history = model.fit(\n",
    "    X_train, \n",
    "    Y_train, \n",
    "    epochs = 40, \n",
    "    batch_size = 30,\n",
    "    validation_data = (X_test, Y_test), \n",
    "    callbacks = [csv_logger]) # Save log into CSV\n",
    "\n",
    "\n",
    "\n",
    "model_path='results/files/' +  model_name\n",
    "with open(model_path, 'wb') as f:\n",
    "    pickle.dump(model, f)\n",
    "\n",
    "# with open(model_path, 'wb') as file_pi:\n",
    "#     pickle.dump(history.history, file_pi)\n",
    "\n",
    "\n"
   ]
  },
  {
   "cell_type": "code",
   "execution_count": 35,
   "metadata": {},
   "outputs": [
    {
     "data": {
      "image/png": "[encoded data removed]",
      "text/plain": [
       "<Figure size 640x480 with 1 Axes>"
      ]
     },
     "metadata": {},
     "output_type": "display_data"
    }
   ],
   "source": [
    "# only for plot\n",
    "\n",
    "def plot_model_history(history):\n",
    "    plt.plot(history.history['accuracy'])\n",
    "    plt.plot(history.history['val_accuracy'])\n",
    "    plt.title('model accuracy')\n",
    "    plt.ylabel('accuracy')\n",
    "    plt.xlabel('epoch')\n",
    "    plt.legend(['train', 'val'], loc='upper left')\n",
    "    plt.show()\n",
    "\n",
    "\n",
    "\n",
    "plot_model_history(history)"
   ]
  },
  {
   "cell_type": "code",
   "execution_count": null,
   "metadata": {},
   "outputs": [],
   "source": [
    "# Training\n",
    "\n",
    "# 1. Load model\n",
    "model_name= 'IM_2' + '_' + npz_file.split('/')[1].split('.npz')[0]\n",
    "model_path='results/files/' +  model_name\n",
    "\n",
    "\n",
    "# # Load model as pickle\n",
    "with open(model_path, 'rb') as handle:\n",
    "    model_IM_2 = pickle.load(handle)\n",
    "model_IM_2\n",
    "\n",
    "# Load model as pickle history\n",
    "# history = pickle.load(open(model_path, \"rb\"))\n",
    "# # 2. Train model\n",
    "\n",
    "model=model_IM_2\n",
    "\n",
    "# model = history\n",
    "\n",
    "\n",
    "csv_logger = tf.keras.callbacks.CSVLogger('results/log/' +  model_name +  '.csv', separator=str(u','), append= False)   \n",
    "\n",
    "\n",
    "history = model.fit(\n",
    "    X_train, \n",
    "    Y_train, \n",
    "    epochs = 2, \n",
    "    batch_size = 30,\n",
    "    validation_data = (X_test, Y_test), \n",
    "    callbacks = [csv_logger]) # Save log into CSV\n",
    "\n",
    "\n",
    "# # 3. Save results\n",
    "# # with open(model_path, 'wb') as f:\n",
    "# #     pickle.dump(model, f)\n",
    "\n",
    "with open(model_path, 'wb') as file_pi:\n",
    "    pickle.dump(history.history, file_pi)\n"
   ]
  },
  {
   "cell_type": "code",
   "execution_count": null,
   "metadata": {},
   "outputs": [],
   "source": [
    "print(history.params)\n"
   ]
  },
  {
   "cell_type": "code",
   "execution_count": null,
   "metadata": {},
   "outputs": [],
   "source": [
    "model_path"
   ]
  },
  {
   "cell_type": "code",
   "execution_count": null,
   "metadata": {
    "id": "L-IYsIJuXV7v"
   },
   "outputs": [],
   "source": [
    "# Imri fit\n",
    "# Choose which model to run\n",
    "model=model_EF_2\n",
    "\n",
    "model.fit(X_train, Y_train, epochs = 90, batch_size = 30, validation_data = (X_test, Y_test))"
   ]
  },
  {
   "cell_type": "markdown",
   "metadata": {
    "id": "i3vd6P_wmbbF"
   },
   "source": [
    "# Evaluation"
   ]
  },
  {
   "cell_type": "code",
   "execution_count": 36,
   "metadata": {
    "id": "c8KBrzQC7Ggy"
   },
   "outputs": [],
   "source": [
    "from sklearn.metrics import confusion_matrix, classification_report, accuracy_score,f1_score"
   ]
  },
  {
   "cell_type": "markdown",
   "metadata": {},
   "source": [
    "## Summary Results:"
   ]
  },
  {
   "cell_type": "code",
   "execution_count": null,
   "metadata": {},
   "outputs": [],
   "source": [
    "\n",
    "log_path = 'results/log/'\n",
    "\n",
    "# create list with all CSV files\n",
    "all_files = []\n",
    "for file in glob.glob(log_path + '*.csv'):\n",
    "    all_files.append(file)\n",
    "\n"
   ]
  },
  {
   "cell_type": "code",
   "execution_count": null,
   "metadata": {},
   "outputs": [
    {
     "data": {
      "text/plain": [
       "['results/log/EF_3_8732_064_2048_0.25.csv',\n",
       " 'results/log/IM_2_8732_256_2048_0.25.csv',\n",
       " 'results/log/EF_4_8732_064_2048_0.25.csv',\n",
       " 'results/log/EF_2_8732_256_2048_0.25.csv',\n",
       " 'results/log/IM_3_8732_064_2048_0.25.csv',\n",
       " 'results/log/IM_1_8732_256_2048_0.25.csv',\n",
       " 'results/log/EF_4_8732_256_2048_0.25.csv',\n",
       " 'results/log/IM_2_8732_064_2048_0.25.csv',\n",
       " 'results/log/EF_3_8732_256_2048_0.25.csv',\n",
       " 'results/log/IM_1_8732_064_2048_0.25.csv',\n",
       " 'results/log/IM_3_8732_256_2048_0.25.csv',\n",
       " 'results/log/EF_2_8732_064_2048_0.25.csv',\n",
       " 'results/log/EF_4_8732_128_2048_0.25.csv',\n",
       " 'results/log/EF_3_8732_128_2048_0.25.csv',\n",
       " 'results/log/IM_2_8732_016_2048_0.25.csv',\n",
       " 'results/log/IM_3_8732_032_2048_0.25.csv',\n",
       " 'results/log/EF_4_8732_032_2048_0.25.csv',\n",
       " 'results/log/IM_1_8732_016_2048_0.25.csv',\n",
       " 'results/log/EF_3_8732_032_2048_0.25.csv',\n",
       " 'results/log/EF_2_8732_016_2048_0.25.csv',\n",
       " 'results/log/IM_3_8732_128_2048_0.25.csv',\n",
       " 'results/log/IM_2_8732_128_2048_0.25.csv',\n",
       " 'results/log/EF_3_8732_016_2048_0.25.csv',\n",
       " 'results/log/EF_2_8732_032_2048_0.25.csv',\n",
       " 'results/log/IM_1_8732_032_2048_0.25.csv',\n",
       " 'results/log/EF_4_8732_016_2048_0.25.csv',\n",
       " 'results/log/IM_2_8732_032_2048_0.25.csv',\n",
       " 'results/log/IM_3_8732_016_2048_0.25.csv',\n",
       " 'results/log/EF_2_8732_128_2048_0.25.csv',\n",
       " 'results/log/IM_1_8732_128_2048_0.25.csv']"
      ]
     },
     "metadata": {},
     "output_type": "display_data"
    }
   ],
   "source": [
    "all_files"
   ]
  },
  {
   "cell_type": "code",
   "execution_count": null,
   "metadata": {},
   "outputs": [
    {
     "data": {
      "text/html": [
       "<div>\n",
       "<style scoped>\n",
       "    .dataframe tbody tr th:only-of-type {\n",
       "        vertical-align: middle;\n",
       "    }\n",
       "\n",
       "    .dataframe tbody tr th {\n",
       "        vertical-align: top;\n",
       "    }\n",
       "\n",
       "    .dataframe thead th {\n",
       "        text-align: right;\n",
       "    }\n",
       "</style>\n",
       "<table border=\"1\" class=\"dataframe\">\n",
       "  <thead>\n",
       "    <tr style=\"text-align: right;\">\n",
       "      <th></th>\n",
       "      <th>epoch</th>\n",
       "      <th>accuracy</th>\n",
       "      <th>loss</th>\n",
       "      <th>val_accuracy</th>\n",
       "      <th>val_loss</th>\n",
       "      <th>File name</th>\n",
       "    </tr>\n",
       "  </thead>\n",
       "  <tbody>\n",
       "    <tr>\n",
       "      <th>0</th>\n",
       "      <td>0</td>\n",
       "      <td>0.500727</td>\n",
       "      <td>1.442676</td>\n",
       "      <td>0.726039</td>\n",
       "      <td>0.851727</td>\n",
       "      <td>results/log/IM_1_8732_128_2048_0.25</td>\n",
       "    </tr>\n",
       "    <tr>\n",
       "      <th>1</th>\n",
       "      <td>1</td>\n",
       "      <td>0.691818</td>\n",
       "      <td>0.911054</td>\n",
       "      <td>0.763783</td>\n",
       "      <td>0.749481</td>\n",
       "      <td>results/log/IM_1_8732_128_2048_0.25</td>\n",
       "    </tr>\n",
       "    <tr>\n",
       "      <th>2</th>\n",
       "      <td>2</td>\n",
       "      <td>0.772364</td>\n",
       "      <td>0.682451</td>\n",
       "      <td>0.818490</td>\n",
       "      <td>0.559220</td>\n",
       "      <td>results/log/IM_1_8732_128_2048_0.25</td>\n",
       "    </tr>\n",
       "    <tr>\n",
       "      <th>3</th>\n",
       "      <td>3</td>\n",
       "      <td>0.834909</td>\n",
       "      <td>0.507940</td>\n",
       "      <td>0.858779</td>\n",
       "      <td>0.478877</td>\n",
       "      <td>results/log/IM_1_8732_128_2048_0.25</td>\n",
       "    </tr>\n",
       "    <tr>\n",
       "      <th>4</th>\n",
       "      <td>4</td>\n",
       "      <td>0.866364</td>\n",
       "      <td>0.407001</td>\n",
       "      <td>0.854962</td>\n",
       "      <td>0.502979</td>\n",
       "      <td>results/log/IM_1_8732_128_2048_0.25</td>\n",
       "    </tr>\n",
       "    <tr>\n",
       "      <th>5</th>\n",
       "      <td>5</td>\n",
       "      <td>0.889455</td>\n",
       "      <td>0.329448</td>\n",
       "      <td>0.883376</td>\n",
       "      <td>0.430971</td>\n",
       "      <td>results/log/IM_1_8732_128_2048_0.25</td>\n",
       "    </tr>\n",
       "    <tr>\n",
       "      <th>6</th>\n",
       "      <td>6</td>\n",
       "      <td>0.914182</td>\n",
       "      <td>0.259120</td>\n",
       "      <td>0.880407</td>\n",
       "      <td>0.469633</td>\n",
       "      <td>results/log/IM_1_8732_128_2048_0.25</td>\n",
       "    </tr>\n",
       "    <tr>\n",
       "      <th>7</th>\n",
       "      <td>7</td>\n",
       "      <td>0.918364</td>\n",
       "      <td>0.239369</td>\n",
       "      <td>0.881255</td>\n",
       "      <td>0.474481</td>\n",
       "      <td>results/log/IM_1_8732_128_2048_0.25</td>\n",
       "    </tr>\n",
       "    <tr>\n",
       "      <th>8</th>\n",
       "      <td>8</td>\n",
       "      <td>0.931091</td>\n",
       "      <td>0.195143</td>\n",
       "      <td>0.890161</td>\n",
       "      <td>0.450577</td>\n",
       "      <td>results/log/IM_1_8732_128_2048_0.25</td>\n",
       "    </tr>\n",
       "    <tr>\n",
       "      <th>9</th>\n",
       "      <td>9</td>\n",
       "      <td>0.946727</td>\n",
       "      <td>0.154269</td>\n",
       "      <td>0.871925</td>\n",
       "      <td>0.622539</td>\n",
       "      <td>results/log/IM_1_8732_128_2048_0.25</td>\n",
       "    </tr>\n",
       "    <tr>\n",
       "      <th>10</th>\n",
       "      <td>10</td>\n",
       "      <td>0.946545</td>\n",
       "      <td>0.152666</td>\n",
       "      <td>0.880831</td>\n",
       "      <td>0.527451</td>\n",
       "      <td>results/log/IM_1_8732_128_2048_0.25</td>\n",
       "    </tr>\n",
       "    <tr>\n",
       "      <th>11</th>\n",
       "      <td>11</td>\n",
       "      <td>0.956182</td>\n",
       "      <td>0.133616</td>\n",
       "      <td>0.890161</td>\n",
       "      <td>0.511585</td>\n",
       "      <td>results/log/IM_1_8732_128_2048_0.25</td>\n",
       "    </tr>\n",
       "    <tr>\n",
       "      <th>12</th>\n",
       "      <td>12</td>\n",
       "      <td>0.964727</td>\n",
       "      <td>0.106121</td>\n",
       "      <td>0.883376</td>\n",
       "      <td>0.561912</td>\n",
       "      <td>results/log/IM_1_8732_128_2048_0.25</td>\n",
       "    </tr>\n",
       "    <tr>\n",
       "      <th>13</th>\n",
       "      <td>13</td>\n",
       "      <td>0.969455</td>\n",
       "      <td>0.097469</td>\n",
       "      <td>0.900763</td>\n",
       "      <td>0.512583</td>\n",
       "      <td>results/log/IM_1_8732_128_2048_0.25</td>\n",
       "    </tr>\n",
       "    <tr>\n",
       "      <th>14</th>\n",
       "      <td>14</td>\n",
       "      <td>0.968545</td>\n",
       "      <td>0.091750</td>\n",
       "      <td>0.889737</td>\n",
       "      <td>0.595861</td>\n",
       "      <td>results/log/IM_1_8732_128_2048_0.25</td>\n",
       "    </tr>\n",
       "  </tbody>\n",
       "</table>\n",
       "</div>"
      ],
      "text/plain": [
       "    epoch  accuracy      loss  val_accuracy  val_loss  \\\n",
       "0       0  0.500727  1.442676      0.726039  0.851727   \n",
       "1       1  0.691818  0.911054      0.763783  0.749481   \n",
       "2       2  0.772364  0.682451      0.818490  0.559220   \n",
       "3       3  0.834909  0.507940      0.858779  0.478877   \n",
       "4       4  0.866364  0.407001      0.854962  0.502979   \n",
       "5       5  0.889455  0.329448      0.883376  0.430971   \n",
       "6       6  0.914182  0.259120      0.880407  0.469633   \n",
       "7       7  0.918364  0.239369      0.881255  0.474481   \n",
       "8       8  0.931091  0.195143      0.890161  0.450577   \n",
       "9       9  0.946727  0.154269      0.871925  0.622539   \n",
       "10     10  0.946545  0.152666      0.880831  0.527451   \n",
       "11     11  0.956182  0.133616      0.890161  0.511585   \n",
       "12     12  0.964727  0.106121      0.883376  0.561912   \n",
       "13     13  0.969455  0.097469      0.900763  0.512583   \n",
       "14     14  0.968545  0.091750      0.889737  0.595861   \n",
       "\n",
       "                              File name  \n",
       "0   results/log/IM_1_8732_128_2048_0.25  \n",
       "1   results/log/IM_1_8732_128_2048_0.25  \n",
       "2   results/log/IM_1_8732_128_2048_0.25  \n",
       "3   results/log/IM_1_8732_128_2048_0.25  \n",
       "4   results/log/IM_1_8732_128_2048_0.25  \n",
       "5   results/log/IM_1_8732_128_2048_0.25  \n",
       "6   results/log/IM_1_8732_128_2048_0.25  \n",
       "7   results/log/IM_1_8732_128_2048_0.25  \n",
       "8   results/log/IM_1_8732_128_2048_0.25  \n",
       "9   results/log/IM_1_8732_128_2048_0.25  \n",
       "10  results/log/IM_1_8732_128_2048_0.25  \n",
       "11  results/log/IM_1_8732_128_2048_0.25  \n",
       "12  results/log/IM_1_8732_128_2048_0.25  \n",
       "13  results/log/IM_1_8732_128_2048_0.25  \n",
       "14  results/log/IM_1_8732_128_2048_0.25  "
      ]
     },
     "metadata": {},
     "output_type": "display_data"
    }
   ],
   "source": [
    "# Add new column with file name\n",
    "\n",
    "for i in all_files:\n",
    "    \n",
    "    df=pd.read_csv(i)\n",
    "    df['File name'] = i.split(\".csv\")[0]\n",
    "\n",
    "    df.to_csv(i.split(\".csv\")[0]+\".csv\", index=False)\n",
    "\n",
    "\n",
    "df"
   ]
  },
  {
   "cell_type": "code",
   "execution_count": null,
   "metadata": {},
   "outputs": [],
   "source": [
    "import pandas as pd\n",
    "import os\n",
    "\n",
    "import glob\n",
    "\n",
    "\n",
    "log_path = 'results/log/'\n",
    "\n",
    "# create list with all .npz files\n",
    "all_files = []\n",
    "for file in glob.glob(log_path + '*.csv'):\n",
    "    all_files.append(file)\n",
    "\n",
    "\n",
    "\n",
    "\n",
    "# concatenate all CSV files\n",
    "df_list = (pd.read_csv(file) for file in all_files)\n",
    "\n",
    "# Concatenate all DataFrames\n",
    "big_df   = pd.concat(df_list, ignore_index=True)\n",
    "\n"
   ]
  },
  {
   "cell_type": "code",
   "execution_count": null,
   "metadata": {},
   "outputs": [
    {
     "data": {
      "text/html": [
       "<div>\n",
       "<style scoped>\n",
       "    .dataframe tbody tr th:only-of-type {\n",
       "        vertical-align: middle;\n",
       "    }\n",
       "\n",
       "    .dataframe tbody tr th {\n",
       "        vertical-align: top;\n",
       "    }\n",
       "\n",
       "    .dataframe thead th {\n",
       "        text-align: right;\n",
       "    }\n",
       "</style>\n",
       "<table border=\"1\" class=\"dataframe\">\n",
       "  <thead>\n",
       "    <tr style=\"text-align: right;\">\n",
       "      <th></th>\n",
       "      <th>epoch</th>\n",
       "      <th>accuracy</th>\n",
       "      <th>loss</th>\n",
       "      <th>val_accuracy</th>\n",
       "      <th>val_loss</th>\n",
       "      <th>File name</th>\n",
       "    </tr>\n",
       "  </thead>\n",
       "  <tbody>\n",
       "    <tr>\n",
       "      <th>0</th>\n",
       "      <td>0</td>\n",
       "      <td>0.613273</td>\n",
       "      <td>1.284006</td>\n",
       "      <td>0.727735</td>\n",
       "      <td>0.781209</td>\n",
       "      <td>results/log/EF_3_8732_064_2048_0.25</td>\n",
       "    </tr>\n",
       "    <tr>\n",
       "      <th>1</th>\n",
       "      <td>1</td>\n",
       "      <td>0.797636</td>\n",
       "      <td>0.602088</td>\n",
       "      <td>0.759542</td>\n",
       "      <td>0.694998</td>\n",
       "      <td>results/log/EF_3_8732_064_2048_0.25</td>\n",
       "    </tr>\n",
       "    <tr>\n",
       "      <th>2</th>\n",
       "      <td>0</td>\n",
       "      <td>0.630364</td>\n",
       "      <td>1.241432</td>\n",
       "      <td>0.766327</td>\n",
       "      <td>0.711880</td>\n",
       "      <td>results/log/EF_3_8732_064_2048_0.25</td>\n",
       "    </tr>\n",
       "    <tr>\n",
       "      <th>3</th>\n",
       "      <td>1</td>\n",
       "      <td>0.813273</td>\n",
       "      <td>0.561383</td>\n",
       "      <td>0.726039</td>\n",
       "      <td>0.784673</td>\n",
       "      <td>results/log/EF_3_8732_064_2048_0.25</td>\n",
       "    </tr>\n",
       "    <tr>\n",
       "      <th>4</th>\n",
       "      <td>2</td>\n",
       "      <td>0.879455</td>\n",
       "      <td>0.370705</td>\n",
       "      <td>0.769296</td>\n",
       "      <td>0.796932</td>\n",
       "      <td>results/log/EF_3_8732_064_2048_0.25</td>\n",
       "    </tr>\n",
       "    <tr>\n",
       "      <th>...</th>\n",
       "      <td>...</td>\n",
       "      <td>...</td>\n",
       "      <td>...</td>\n",
       "      <td>...</td>\n",
       "      <td>...</td>\n",
       "      <td>...</td>\n",
       "    </tr>\n",
       "    <tr>\n",
       "      <th>526</th>\n",
       "      <td>10</td>\n",
       "      <td>0.946545</td>\n",
       "      <td>0.152666</td>\n",
       "      <td>0.880831</td>\n",
       "      <td>0.527451</td>\n",
       "      <td>results/log/IM_1_8732_128_2048_0.25</td>\n",
       "    </tr>\n",
       "    <tr>\n",
       "      <th>527</th>\n",
       "      <td>11</td>\n",
       "      <td>0.956182</td>\n",
       "      <td>0.133616</td>\n",
       "      <td>0.890161</td>\n",
       "      <td>0.511585</td>\n",
       "      <td>results/log/IM_1_8732_128_2048_0.25</td>\n",
       "    </tr>\n",
       "    <tr>\n",
       "      <th>528</th>\n",
       "      <td>12</td>\n",
       "      <td>0.964727</td>\n",
       "      <td>0.106121</td>\n",
       "      <td>0.883376</td>\n",
       "      <td>0.561912</td>\n",
       "      <td>results/log/IM_1_8732_128_2048_0.25</td>\n",
       "    </tr>\n",
       "    <tr>\n",
       "      <th>529</th>\n",
       "      <td>13</td>\n",
       "      <td>0.969455</td>\n",
       "      <td>0.097469</td>\n",
       "      <td>0.900763</td>\n",
       "      <td>0.512583</td>\n",
       "      <td>results/log/IM_1_8732_128_2048_0.25</td>\n",
       "    </tr>\n",
       "    <tr>\n",
       "      <th>530</th>\n",
       "      <td>14</td>\n",
       "      <td>0.968545</td>\n",
       "      <td>0.091750</td>\n",
       "      <td>0.889737</td>\n",
       "      <td>0.595861</td>\n",
       "      <td>results/log/IM_1_8732_128_2048_0.25</td>\n",
       "    </tr>\n",
       "  </tbody>\n",
       "</table>\n",
       "<p>531 rows × 6 columns</p>\n",
       "</div>"
      ],
      "text/plain": [
       "     epoch  accuracy      loss  val_accuracy  val_loss  \\\n",
       "0        0  0.613273  1.284006      0.727735  0.781209   \n",
       "1        1  0.797636  0.602088      0.759542  0.694998   \n",
       "2        0  0.630364  1.241432      0.766327  0.711880   \n",
       "3        1  0.813273  0.561383      0.726039  0.784673   \n",
       "4        2  0.879455  0.370705      0.769296  0.796932   \n",
       "..     ...       ...       ...           ...       ...   \n",
       "526     10  0.946545  0.152666      0.880831  0.527451   \n",
       "527     11  0.956182  0.133616      0.890161  0.511585   \n",
       "528     12  0.964727  0.106121      0.883376  0.561912   \n",
       "529     13  0.969455  0.097469      0.900763  0.512583   \n",
       "530     14  0.968545  0.091750      0.889737  0.595861   \n",
       "\n",
       "                               File name  \n",
       "0    results/log/EF_3_8732_064_2048_0.25  \n",
       "1    results/log/EF_3_8732_064_2048_0.25  \n",
       "2    results/log/EF_3_8732_064_2048_0.25  \n",
       "3    results/log/EF_3_8732_064_2048_0.25  \n",
       "4    results/log/EF_3_8732_064_2048_0.25  \n",
       "..                                   ...  \n",
       "526  results/log/IM_1_8732_128_2048_0.25  \n",
       "527  results/log/IM_1_8732_128_2048_0.25  \n",
       "528  results/log/IM_1_8732_128_2048_0.25  \n",
       "529  results/log/IM_1_8732_128_2048_0.25  \n",
       "530  results/log/IM_1_8732_128_2048_0.25  \n",
       "\n",
       "[531 rows x 6 columns]"
      ]
     },
     "metadata": {},
     "output_type": "display_data"
    }
   ],
   "source": [
    "big_df"
   ]
  },
  {
   "cell_type": "code",
   "execution_count": null,
   "metadata": {},
   "outputs": [
    {
     "data": {
      "text/html": [
       "<div>\n",
       "<style scoped>\n",
       "    .dataframe tbody tr th:only-of-type {\n",
       "        vertical-align: middle;\n",
       "    }\n",
       "\n",
       "    .dataframe tbody tr th {\n",
       "        vertical-align: top;\n",
       "    }\n",
       "\n",
       "    .dataframe thead th {\n",
       "        text-align: right;\n",
       "    }\n",
       "</style>\n",
       "<table border=\"1\" class=\"dataframe\">\n",
       "  <thead>\n",
       "    <tr style=\"text-align: right;\">\n",
       "      <th></th>\n",
       "      <th>epoch</th>\n",
       "      <th>accuracy</th>\n",
       "      <th>loss</th>\n",
       "      <th>val_accuracy</th>\n",
       "      <th>val_loss</th>\n",
       "      <th>File name</th>\n",
       "    </tr>\n",
       "  </thead>\n",
       "  <tbody>\n",
       "    <tr>\n",
       "      <th>53</th>\n",
       "      <td>33</td>\n",
       "      <td>0.979091</td>\n",
       "      <td>0.075029</td>\n",
       "      <td>0.920271</td>\n",
       "      <td>0.524741</td>\n",
       "      <td>results/log/IM_2_8732_256_2048_0.25</td>\n",
       "    </tr>\n",
       "    <tr>\n",
       "      <th>56</th>\n",
       "      <td>36</td>\n",
       "      <td>0.978545</td>\n",
       "      <td>0.072887</td>\n",
       "      <td>0.913910</td>\n",
       "      <td>0.527185</td>\n",
       "      <td>results/log/IM_2_8732_256_2048_0.25</td>\n",
       "    </tr>\n",
       "    <tr>\n",
       "      <th>52</th>\n",
       "      <td>32</td>\n",
       "      <td>0.978182</td>\n",
       "      <td>0.063280</td>\n",
       "      <td>0.913062</td>\n",
       "      <td>0.507662</td>\n",
       "      <td>results/log/IM_2_8732_256_2048_0.25</td>\n",
       "    </tr>\n",
       "    <tr>\n",
       "      <th>39</th>\n",
       "      <td>19</td>\n",
       "      <td>0.963455</td>\n",
       "      <td>0.108803</td>\n",
       "      <td>0.912638</td>\n",
       "      <td>0.463090</td>\n",
       "      <td>results/log/IM_2_8732_256_2048_0.25</td>\n",
       "    </tr>\n",
       "    <tr>\n",
       "      <th>59</th>\n",
       "      <td>39</td>\n",
       "      <td>0.979818</td>\n",
       "      <td>0.066711</td>\n",
       "      <td>0.912214</td>\n",
       "      <td>0.628032</td>\n",
       "      <td>results/log/IM_2_8732_256_2048_0.25</td>\n",
       "    </tr>\n",
       "    <tr>\n",
       "      <th>50</th>\n",
       "      <td>30</td>\n",
       "      <td>0.971091</td>\n",
       "      <td>0.098250</td>\n",
       "      <td>0.908821</td>\n",
       "      <td>0.465740</td>\n",
       "      <td>results/log/IM_2_8732_256_2048_0.25</td>\n",
       "    </tr>\n",
       "    <tr>\n",
       "      <th>51</th>\n",
       "      <td>31</td>\n",
       "      <td>0.981273</td>\n",
       "      <td>0.069804</td>\n",
       "      <td>0.907973</td>\n",
       "      <td>0.505338</td>\n",
       "      <td>results/log/IM_2_8732_256_2048_0.25</td>\n",
       "    </tr>\n",
       "    <tr>\n",
       "      <th>57</th>\n",
       "      <td>37</td>\n",
       "      <td>0.984364</td>\n",
       "      <td>0.052312</td>\n",
       "      <td>0.907125</td>\n",
       "      <td>0.628906</td>\n",
       "      <td>results/log/IM_2_8732_256_2048_0.25</td>\n",
       "    </tr>\n",
       "    <tr>\n",
       "      <th>55</th>\n",
       "      <td>35</td>\n",
       "      <td>0.979818</td>\n",
       "      <td>0.065946</td>\n",
       "      <td>0.907125</td>\n",
       "      <td>0.560824</td>\n",
       "      <td>results/log/IM_2_8732_256_2048_0.25</td>\n",
       "    </tr>\n",
       "    <tr>\n",
       "      <th>54</th>\n",
       "      <td>34</td>\n",
       "      <td>0.978000</td>\n",
       "      <td>0.072651</td>\n",
       "      <td>0.906277</td>\n",
       "      <td>0.499315</td>\n",
       "      <td>results/log/IM_2_8732_256_2048_0.25</td>\n",
       "    </tr>\n",
       "  </tbody>\n",
       "</table>\n",
       "</div>"
      ],
      "text/plain": [
       "    epoch  accuracy      loss  val_accuracy  val_loss  \\\n",
       "53     33  0.979091  0.075029      0.920271  0.524741   \n",
       "56     36  0.978545  0.072887      0.913910  0.527185   \n",
       "52     32  0.978182  0.063280      0.913062  0.507662   \n",
       "39     19  0.963455  0.108803      0.912638  0.463090   \n",
       "59     39  0.979818  0.066711      0.912214  0.628032   \n",
       "50     30  0.971091  0.098250      0.908821  0.465740   \n",
       "51     31  0.981273  0.069804      0.907973  0.505338   \n",
       "57     37  0.984364  0.052312      0.907125  0.628906   \n",
       "55     35  0.979818  0.065946      0.907125  0.560824   \n",
       "54     34  0.978000  0.072651      0.906277  0.499315   \n",
       "\n",
       "                              File name  \n",
       "53  results/log/IM_2_8732_256_2048_0.25  \n",
       "56  results/log/IM_2_8732_256_2048_0.25  \n",
       "52  results/log/IM_2_8732_256_2048_0.25  \n",
       "39  results/log/IM_2_8732_256_2048_0.25  \n",
       "59  results/log/IM_2_8732_256_2048_0.25  \n",
       "50  results/log/IM_2_8732_256_2048_0.25  \n",
       "51  results/log/IM_2_8732_256_2048_0.25  \n",
       "57  results/log/IM_2_8732_256_2048_0.25  \n",
       "55  results/log/IM_2_8732_256_2048_0.25  \n",
       "54  results/log/IM_2_8732_256_2048_0.25  "
      ]
     },
     "metadata": {},
     "output_type": "display_data"
    }
   ],
   "source": [
    "big_df.sort_values(by=['val_accuracy'], inplace=False, ascending=False).head(10)\n"
   ]
  },
  {
   "cell_type": "markdown",
   "metadata": {},
   "source": []
  },
  {
   "cell_type": "markdown",
   "metadata": {},
   "source": [
    "## Retraining:"
   ]
  },
  {
   "cell_type": "code",
   "execution_count": null,
   "metadata": {},
   "outputs": [
    {
     "name": "stdout",
     "output_type": "stream",
     "text": [
      "X_Validation.shape: (874, 256, 57)\n",
      "X_train.shape: (5500, 256, 57)\n",
      "X_test.shape: (2358, 256, 57)\n"
     ]
    }
   ],
   "source": [
    "import glob\n",
    "from sklearn.model_selection import train_test_split\n",
    "\n",
    "from tensorflow.keras.utils import to_categorical\n",
    "\n",
    "\n",
    "directory_path = 'data/'\n",
    "# create list with all .npz files\n",
    "npz_files = []\n",
    "for file in glob.glob(directory_path + '*.npz'):\n",
    "    npz_files.append(file)\n",
    "\n",
    "\n",
    "# Load data\n",
    "npz_file = npz_files[1]\n",
    "\n",
    "data=np.load(npz_file, allow_pickle=True)\n",
    "x_data=data['X']\n",
    "y_data=data['y']\n",
    "y_data = to_categorical(y_data)\n",
    "\n",
    "\n",
    "\n",
    "\n",
    "\n",
    "\n",
    "x_data, X_Validation, y_data, Y_Validation = train_test_split(x_data, y_data, test_size=0.1 ,random_state = 123)\n",
    "X_train, X_test, Y_train, Y_test = train_test_split(x_data, y_data, test_size=0.3 ,random_state = 123)\n",
    "\n",
    "print('X_Validation.shape: ' + str(X_Validation.shape))\n",
    "print('X_train.shape: ' + str(X_train.shape))\n",
    "print('X_test.shape: '+ str(X_test.shape))\n",
    "\n",
    "\n",
    "\n",
    "\n",
    "\n",
    "\n",
    "\n",
    "X_Validation = X_Validation.reshape(X_Validation.shape[0],X_Validation.shape[1],X_Validation.shape[2],1)\n",
    "X_train = X_train.reshape(X_train.shape[0],X_train.shape[1],X_train.shape[2],1)\n",
    "X_test = X_test.reshape(X_test.shape[0],X_test.shape[1],X_test.shape[2],1)\n",
    "\n",
    "input_dim = (X_train.shape[1],X_train.shape[2],1)\n",
    "\n",
    "\n",
    "\n",
    "\n",
    "\n",
    "\n"
   ]
  },
  {
   "cell_type": "code",
   "execution_count": null,
   "metadata": {},
   "outputs": [],
   "source": [
    "# Training\n",
    "import tensorflow as tf\n",
    "\n",
    "# 1. Load model\n",
    "model_name= 'IM_2' + '_' + npz_file.split('/')[1].split('.npz')[0]\n",
    "model_path='results/files/' +  model_name\n",
    "\n",
    "\n",
    "\n",
    "with open(model_path, 'rb') as handle:\n",
    "    model_IM_2 = pickle.load(handle)\n",
    "model_IM_2\n",
    "\n",
    "\n",
    "# 2. Train model\n",
    "model=model_IM_2\n",
    "\n",
    "\n",
    "\n",
    "csv_logger = tf.keras.callbacks.CSVLogger('results/log/' +  model_name +  '.csv', separator=str(u','), append= True)   \n",
    "\n",
    "\n",
    "model.fit(\n",
    "    X_train, \n",
    "    Y_train, \n",
    "    epochs = 2, \n",
    "    batch_size = 30,\n",
    "    validation_data = (X_test, Y_test), \n",
    "    callbacks = [csv_logger]) # Save log into CSV\n",
    "\n",
    "\n",
    "# 3. Save results\n",
    "with open(model_path, 'wb') as f:\n",
    "    pickle.dump(model, f)\n",
    "\n"
   ]
  },
  {
   "cell_type": "markdown",
   "metadata": {},
   "source": [
    "## Final Evaluation:"
   ]
  },
  {
   "cell_type": "code",
   "execution_count": null,
   "metadata": {},
   "outputs": [
    {
     "name": "stdout",
     "output_type": "stream",
     "text": [
      "Validation loss: 0.49734777212142944\n",
      "Validation accuracy: 0.9187642931938171\n"
     ]
    }
   ],
   "source": [
    "score = model.evaluate(X_Validation, Y_Validation, verbose=0)\n",
    "print('Validation loss:', score[0])\n",
    "print('Validation accuracy:', score[1])"
   ]
  },
  {
   "cell_type": "code",
   "execution_count": null,
   "metadata": {},
   "outputs": [
    {
     "name": "stdout",
     "output_type": "stream",
     "text": [
      "28/28 [==============================] - 3s 98ms/step\n"
     ]
    }
   ],
   "source": [
    "x_check=X_Validation\n",
    "y_check=Y_Validation\n",
    "\n",
    "pred_vector=model.predict(x_check)\n",
    "\n",
    "y_pred=np.argmax(pred_vector, axis=1, out=None)\n",
    "y_check=np.argmax(y_check, axis=1, out=None)\n",
    "\n"
   ]
  },
  {
   "cell_type": "code",
   "execution_count": null,
   "metadata": {},
   "outputs": [],
   "source": [
    "class_names = ['air_conditioner', 'car_horn', 'children_playing', 'dog_bark', 'drilling',\n",
    "               'engine_idling', 'gun_shot', 'jackhammer', 'siren', 'street_music']\n"
   ]
  },
  {
   "cell_type": "code",
   "execution_count": null,
   "metadata": {},
   "outputs": [
    {
     "name": "stdout",
     "output_type": "stream",
     "text": [
      "Model: \"sequential_1\"\n",
      "_________________________________________________________________\n",
      " Layer (type)                Output Shape              Param #   \n",
      "=================================================================\n",
      " conv2d_3 (Conv2D)           (None, 256, 57, 32)       320       \n",
      "                                                                 \n",
      " max_pooling2d_3 (MaxPooling  (None, 128, 28, 32)      0         \n",
      " 2D)                                                             \n",
      "                                                                 \n",
      " dropout_4 (Dropout)         (None, 128, 28, 32)       0         \n",
      "                                                                 \n",
      " conv2d_4 (Conv2D)           (None, 128, 28, 64)       18496     \n",
      "                                                                 \n",
      " max_pooling2d_4 (MaxPooling  (None, 64, 14, 64)       0         \n",
      " 2D)                                                             \n",
      "                                                                 \n",
      " dropout_5 (Dropout)         (None, 64, 14, 64)        0         \n",
      "                                                                 \n",
      " conv2d_5 (Conv2D)           (None, 62, 12, 64)        36928     \n",
      "                                                                 \n",
      " max_pooling2d_5 (MaxPooling  (None, 31, 6, 64)        0         \n",
      " 2D)                                                             \n",
      "                                                                 \n",
      " dropout_6 (Dropout)         (None, 31, 6, 64)         0         \n",
      "                                                                 \n",
      " flatten_1 (Flatten)         (None, 11904)             0         \n",
      "                                                                 \n",
      " dense_3 (Dense)             (None, 256)               3047680   \n",
      "                                                                 \n",
      " dropout_7 (Dropout)         (None, 256)               0         \n",
      "                                                                 \n",
      " dense_4 (Dense)             (None, 128)               32896     \n",
      "                                                                 \n",
      " dense_5 (Dense)             (None, 10)                1290      \n",
      "                                                                 \n",
      "=================================================================\n",
      "Total params: 3,137,610\n",
      "Trainable params: 3,137,610\n",
      "Non-trainable params: 0\n",
      "_________________________________________________________________\n",
      "None\n"
     ]
    }
   ],
   "source": [
    "print(model.summary())"
   ]
  },
  {
   "cell_type": "markdown",
   "metadata": {},
   "source": [
    "## Classification Report:"
   ]
  },
  {
   "cell_type": "code",
   "execution_count": null,
   "metadata": {},
   "outputs": [
    {
     "name": "stdout",
     "output_type": "stream",
     "text": [
      "                  precision    recall  f1-score   support\n",
      "\n",
      " air_conditioner       0.99      0.95      0.97        91\n",
      "        car_horn       0.98      0.91      0.94        45\n",
      "children_playing       0.82      0.88      0.85       111\n",
      "        dog_bark       0.85      0.93      0.89        91\n",
      "        drilling       0.95      0.89      0.92       101\n",
      "   engine_idling       0.99      0.93      0.96       108\n",
      "        gun_shot       0.83      1.00      0.90        38\n",
      "      jackhammer       0.94      0.92      0.93        85\n",
      "           siren       0.98      0.95      0.96       100\n",
      "    street_music       0.88      0.88      0.88       104\n",
      "\n",
      "        accuracy                           0.92       874\n",
      "       macro avg       0.92      0.92      0.92       874\n",
      "    weighted avg       0.92      0.92      0.92       874\n",
      "\n"
     ]
    }
   ],
   "source": [
    "print(classification_report(y_true=y_check,y_pred=y_pred, target_names=class_names))"
   ]
  },
  {
   "cell_type": "markdown",
   "metadata": {},
   "source": [
    "## Confusion matrix:"
   ]
  },
  {
   "cell_type": "code",
   "execution_count": null,
   "metadata": {},
   "outputs": [],
   "source": [
    "cm = multilabel_confusion_matrix(y_check, y_pred, sample_weight=None, labels=None, samplewise=False)"
   ]
  },
  {
   "cell_type": "code",
   "execution_count": null,
   "metadata": {},
   "outputs": [],
   "source": [
    "\n",
    "def print_confusion_matrix(confusion_matrix, axes, class_label, class_names, fontsize=14):\n",
    "\n",
    "    df_cm = pd.DataFrame(\n",
    "        confusion_matrix, index=class_names, columns=class_names,\n",
    "    )\n",
    "\n",
    "    try:\n",
    "        heatmap = sns.heatmap(df_cm, annot=True, fmt=\"d\", cbar=False, ax=axes)\n",
    "    except ValueError:\n",
    "        raise ValueError(\"Confusion matrix values must be integers.\")\n",
    "    heatmap.yaxis.set_ticklabels(heatmap.yaxis.get_ticklabels(), rotation=0, ha='right', fontsize=fontsize)\n",
    "    heatmap.xaxis.set_ticklabels(heatmap.xaxis.get_ticklabels(), rotation=45, ha='right', fontsize=fontsize)\n",
    "    axes.set_ylabel('True label')\n",
    "    axes.set_xlabel('Predicted label')\n",
    "    axes.set_title(\"Confusion Matrix for the class - \" + class_label)\n"
   ]
  },
  {
   "cell_type": "code",
   "execution_count": null,
   "metadata": {},
   "outputs": [
    {
     "data": {
      "image/png": "[encoded data removed]",
      "text/plain": [
       "<Figure size 1000x1000 with 10 Axes>"
      ]
     },
     "metadata": {},
     "output_type": "display_data"
    }
   ],
   "source": [
    "\n",
    "fig, ax = plt.subplots(5, 2, figsize=(10, 10))\n",
    "    \n",
    "for axes, cfs_matrix, label in zip(ax.flatten(), cm, class_names):\n",
    "        print_confusion_matrix(cfs_matrix, axes, label, [\"N\", \"Y\"])\n",
    "fig.tight_layout()\n",
    "\n",
    "plt.show()"
   ]
  },
  {
   "cell_type": "code",
   "execution_count": null,
   "metadata": {},
   "outputs": [],
   "source": []
  },
  {
   "cell_type": "markdown",
   "metadata": {},
   "source": [
    "## History:"
   ]
  },
  {
   "cell_type": "code",
   "execution_count": null,
   "metadata": {},
   "outputs": [],
   "source": [
    "def plot_model_history(history):\n",
    "    plt.plot(history.history['accuracy'])\n",
    "    plt.plot(history.history['val_accuracy'])\n",
    "    plt.title('model accuracy')\n",
    "    plt.ylabel('accuracy')\n",
    "    plt.xlabel('epoch')\n",
    "    plt.legend(['train', 'val'], loc='upper left')\n",
    "    plt.show()"
   ]
  },
  {
   "cell_type": "code",
   "execution_count": null,
   "metadata": {},
   "outputs": [
    {
     "ename": "NameError",
     "evalue": "name 'history' is not defined",
     "output_type": "error",
     "traceback": [
      "\u001b[0;31m---------------------------------------------------------------------------\u001b[0m\n",
      "\u001b[0;31mNameError\u001b[0m                                 Traceback (most recent call last)\n",
      "\u001b[0;32m<ipython-input-107-c3511e6290cd>\u001b[0m in \u001b[0;36m<module>\u001b[0;34m\u001b[0m\n",
      "\u001b[0;32m----> 1\u001b[0;31m \u001b[0mprint\u001b[0m\u001b[0;34m(\u001b[0m\u001b[0mhistory\u001b[0m\u001b[0;34m.\u001b[0m\u001b[0mparams\u001b[0m\u001b[0;34m)\u001b[0m\u001b[0;34m\u001b[0m\u001b[0;34m\u001b[0m\u001b[0m\n",
      "\u001b[0m\n",
      "\u001b[0;31mNameError\u001b[0m: name 'history' is not defined"
     ]
    }
   ],
   "source": [
    "print(history.params)\n"
   ]
  },
  {
   "cell_type": "code",
   "execution_count": null,
   "metadata": {},
   "outputs": [],
   "source": [
    "plot_model_history(history)"
   ]
  },
  {
   "cell_type": "markdown",
   "metadata": {
    "id": "IH1xnkKjXV7v"
   },
   "source": [
    "# Insights:"
   ]
  },
  {
   "cell_type": "code",
   "execution_count": null,
   "metadata": {
    "colab": {
     "base_uri": "https://localhost:8080/"
    },
    "id": "8n9DD2t94GGi",
    "outputId": "4f634d84-57eb-42d8-f892-2aef3ee18324"
   },
   "outputs": [],
   "source": [
    "!pip install pydot\n",
    "!pip install pydot_ng\n",
    "!pip install graphviz\n",
    "!pip install plot_model"
   ]
  },
  {
   "cell_type": "code",
   "execution_count": null,
   "metadata": {
    "id": "Mg-FfX6F0k9G"
   },
   "outputs": [],
   "source": [
    "import keras\n",
    "import pydotplus\n",
    "from keras.utils.vis_utils import model_to_dot\n"
   ]
  },
  {
   "cell_type": "code",
   "execution_count": null,
   "metadata": {
    "colab": {
     "base_uri": "https://localhost:8080/"
    },
    "id": "p6IBoGkx10lF",
    "outputId": "e549edef-83a8-4f20-9032-0f9f94f6752a"
   },
   "outputs": [],
   "source": [
    "print(model2.summary())"
   ]
  },
  {
   "cell_type": "code",
   "execution_count": null,
   "metadata": {
    "colab": {
     "base_uri": "https://localhost:8080/",
     "height": 1000
    },
    "id": "6KJJNf9t0QMW",
    "outputId": "9c634759-7c28-4631-c3fb-8bcf87c9d35c"
   },
   "outputs": [],
   "source": [
    "plot_model(model2, to_file='model.png', show_shapes=True, show_layer_names=False, rankdir='TB', expand_nested=False , dpi=96)"
   ]
  }
 ],
 "metadata": {
  "kernelspec": {
   "display_name": "Python 3.7.3 64-bit ('3.7.3')",
   "language": "python",
   "name": "python3"
  },
  "language_info": {
   "codemirror_mode": {
    "name": "ipython",
    "version": 3
   },
   "file_extension": ".py",
   "mimetype": "text/x-python",
   "name": "python",
   "nbconvert_exporter": "python",
   "pygments_lexer": "ipython3",
   "version": "3.7.3"
  },
  "orig_nbformat": 4,
  "vscode": {
   "interpreter": {
    "hash": "16ff6e8bc022e8ba47caeb8df96688ca29263628d52e9c971b5b091cf9b5715b"
   }
  }
 },
 "nbformat": 4,
 "nbformat_minor": 2
}
